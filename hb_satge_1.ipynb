{
  "nbformat": 4,
  "nbformat_minor": 0,
  "metadata": {
    "colab": {
      "provenance": [],
      "authorship_tag": "ABX9TyPf+g/7gJ+ZH6G/yk7MQ2Ol",
      "include_colab_link": true
    },
    "kernelspec": {
      "name": "python3",
      "display_name": "Python 3"
    },
    "language_info": {
      "name": "python"
    }
  },
  "cells": [
    {
      "cell_type": "markdown",
      "metadata": {
        "id": "view-in-github",
        "colab_type": "text"
      },
      "source": [
        "<a href=\"https://colab.research.google.com/github/chiomaanii/hackbiointernship/blob/main/hb_satge_1.ipynb\" target=\"_parent\"><img src=\"https://colab.research.google.com/assets/colab-badge.svg\" alt=\"Open In Colab\"/></a>"
      ]
    },
    {
      "cell_type": "code",
      "execution_count": 1,
      "metadata": {
        "colab": {
          "base_uri": "https://localhost:8080/"
        },
        "id": "gQ12SdfQ5dJf",
        "outputId": "63e9cf80-64a7-4255-86ae-6021ae3f0701"
      },
      "outputs": [
        {
          "output_type": "stream",
          "name": "stdout",
          "text": [
            "=== Hamming Distance Result ===\n",
            "Slack Username: oma\n",
            "Twitter/X Username: chiomanii\n",
            "Hamming Distance: 9\n"
          ]
        }
      ],
      "source": [
        "# === TASK 1: Translate DNA to Protein ===\n",
        "def translate_dna(dna_sequence):\n",
        "    codon_table = {\n",
        "        'ATA':'I', 'ATC':'I', 'ATT':'I', 'ATG':'M',\n",
        "        'ACA':'T', 'ACC':'T', 'ACG':'T', 'ACT':'T',\n",
        "        'AAC':'N', 'AAT':'N', 'AAA':'K', 'AAG':'K',\n",
        "        'AGC':'S', 'AGT':'S', 'AGA':'R', 'AGG':'R',\n",
        "        'CTA':'L', 'CTC':'L', 'CTG':'L', 'CTT':'L',\n",
        "        'CCA':'P', 'CCC':'P', 'CCG':'P', 'CCT':'P',\n",
        "        'CAC':'H', 'CAT':'H', 'CAA':'Q', 'CAG':'Q',\n",
        "        'CGA':'R', 'CGC':'R', 'CGG':'R', 'CGT':'R',\n",
        "        'GTA':'V', 'GTC':'V', 'GTG':'V', 'GTT':'V',\n",
        "        'GCA':'A', 'GCC':'A', 'GCG':'A', 'GCT':'A',\n",
        "        'GAC':'D', 'GAT':'D', 'GAA':'E', 'GAG':'E',\n",
        "        'GGA':'G', 'GGC':'G', 'GGG':'G', 'GGT':'G',\n",
        "        'TCA':'S', 'TCC':'S', 'TCG':'S', 'TCT':'S',\n",
        "        'TTC':'F', 'TTT':'F', 'TTA':'L', 'TTG':'L',\n",
        "        'TAC':'Y', 'TAT':'Y', 'TAA':'_', 'TAG':'_',\n",
        "        'TGC':'C', 'TGT':'C', 'TGA':'_', 'TGG':'W'\n",
        "    }\n",
        "    protein = ''\n",
        "    for i in range(0, len(dna_sequence), 3):\n",
        "        codon = dna_sequence[i:i+3]\n",
        "        protein += codon_table.get(codon, '-')\n",
        "    return protein\n",
        "\n",
        "# === TASK 2: Simulate Logistic Growth Curves (100) ===\n",
        "import numpy as np\n",
        "import pandas as pd\n",
        "import random\n",
        "\n",
        "def logistic_growth(t, K=1000, r=0.3, t0=20):\n",
        "    return K / (1 + np.exp(-r * (t - t0)))\n",
        "\n",
        "def generate_growth_curves(num_curves=100, time_points=100):\n",
        "    data = []\n",
        "    for curve_id in range(num_curves):\n",
        "        lag_shift = random.uniform(5, 20)  # randomized lag\n",
        "        growth_rate = random.uniform(0.1, 0.5)  # randomized exponential phase\n",
        "        carrying_capacity = random.uniform(800, 1200)\n",
        "        time = np.linspace(0, 50, time_points)\n",
        "        values = logistic_growth(time, K=carrying_capacity, r=growth_rate, t0=lag_shift)\n",
        "        for t, v in zip(time, values):\n",
        "            data.append({\n",
        "                'Curve_ID': curve_id,\n",
        "                'Time': t,\n",
        "                'Population': v\n",
        "            })\n",
        "    return pd.DataFrame(data)\n",
        "\n",
        "# Generate dataframe\n",
        "growth_df = generate_growth_curves()\n",
        "\n",
        "# === TASK 3: Time to Reach 80% of Maximum Growth ===\n",
        "def time_to_80_percent(time_array, population_array, K):\n",
        "    target = 0.8 * K\n",
        "    for t, p in zip(time_array, population_array):\n",
        "        if p >= target:\n",
        "            return t\n",
        "    return None  # If never reached\n",
        "\n",
        "# === TASK 4: Hamming Distance Between Slack and Twitter Handles ===\n",
        "def hamming_distance(str1, str2):\n",
        "    max_len = max(len(str1), len(str2))\n",
        "    str1 = str1.ljust(max_len, '_')  # pad with underscores\n",
        "    str2 = str2.ljust(max_len, '_')\n",
        "    return sum(ch1 != ch2 for ch1, ch2 in zip(str1, str2))\n",
        "\n",
        "# --- Your Usernames ---\n",
        "slack_username = \"oma\"\n",
        "twitter_username = \"chiomanii\"\n",
        "\n",
        "# --- Calculate Hamming Distance ---\n",
        "distance = hamming_distance(slack_username, twitter_username)\n",
        "\n",
        "# === Display Results ===\n",
        "print(\"=== Hamming Distance Result ===\")\n",
        "print(f\"Slack Username: {slack_username}\")\n",
        "print(f\"Twitter/X Username: {twitter_username}\")\n",
        "print(f\"Hamming Distance: {distance}\")\n"
      ]
    }
  ]
}